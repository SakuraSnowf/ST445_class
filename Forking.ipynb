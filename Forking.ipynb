{
 "cells": [
  {
   "cell_type": "markdown",
   "metadata": {},
   "source": [
    "## Fork\n",
    "\n",
    "1. Go to https://github.com/lse-st445/lectures2020, click \"Fork\" on the top right\n",
    "2. Go to https://github.com/[your_user_name]/lectures2020 and check you have your own `lectures2020` repository in your GitHub account"
   ]
  },
  {
   "cell_type": "markdown",
   "metadata": {},
   "source": [
    "## Clone your repository into your own computer\n",
    "\n",
    "1. Open the terminal cd into the directory you want your local copy of the `lectures2020` to be in\n",
    "2. Type the following command in the terminal\n",
    "```\n",
    "git clone https://github.com/[your_user_name]/lectures2020.git\n",
    "```\n",
    "3. Check in the directory to make sure the repository has been cloned "
   ]
  },
  {
   "cell_type": "markdown",
   "metadata": {},
   "source": [
    "## Keep your fork up-to-date\n",
    "1. Configuring a remote for a fork, see: https://docs.github.com/en/free-pro-team@latest/github/collaborating-with-issues-and-pull-requests/configuring-a-remote-for-a-fork\n",
    "\n",
    "2. Syncing a fork, see: https://docs.github.com/en/free-pro-team@latest/github/collaborating-with-issues-and-pull-requests/syncing-a-fork\n",
    "7. git add upstream https://github.com/lse-st445/lectures2020.git\n",
    "8. git fetch upstream\n",
    "9. git pull upstream master"
   ]
  },
  {
   "cell_type": "markdown",
   "metadata": {},
   "source": [
    "## Push your changes to your repository\n",
    "\n",
    "* Follow Step 2 to 5 in https://docs.github.com/en/free-pro-team@latest/github/managing-files-in-a-repository/adding-a-file-to-a-repository-using-the-command-line\n",
    "* Finish with \n",
    "```\n",
    "git push\n",
    "```"
   ]
  },
  {
   "cell_type": "markdown",
   "metadata": {},
   "source": [
    "## Create a pull request from a fork\n",
    "\n",
    "* Follow https://docs.github.com/en/free-pro-team@latest/github/collaborating-with-issues-and-pull-requests/creating-a-pull-request-from-a-fork"
   ]
  },
  {
   "cell_type": "code",
   "execution_count": null,
   "metadata": {},
   "outputs": [],
   "source": []
  }
 ],
 "metadata": {
  "kernelspec": {
   "display_name": "Python 3",
   "language": "python",
   "name": "python3"
  },
  "language_info": {
   "codemirror_mode": {
    "name": "ipython",
    "version": 3
   },
   "file_extension": ".py",
   "mimetype": "text/x-python",
   "name": "python",
   "nbconvert_exporter": "python",
   "pygments_lexer": "ipython3",
   "version": "3.8.3"
  }
 },
 "nbformat": 4,
 "nbformat_minor": 4
}
